{
 "cells": [
  {
   "cell_type": "code",
   "execution_count": null,
   "metadata": {},
   "outputs": [],
   "source": [
    "#Range of 2\n",
    "\n",
    "left,right = map(int,input().split())\n",
    "i = left\n",
    "while i <= right:\n",
    "    print(i)\n",
    "    i *= 2\n"
   ]
  },
  {
   "cell_type": "code",
   "execution_count": null,
   "metadata": {},
   "outputs": [],
   "source": [
    "#sum of series\n",
    "\n",
    "N, X = map(int, input().split())\n",
    "\n",
    "if N <= 0 or X <= 0:\n",
    "    print(-1)\n",
    "else:\n",
    "    result = 0\n",
    "    term = 1\n",
    "\n",
    "    for i in range(N):\n",
    "        result += term\n",
    "        term *= X\n",
    "\n",
    "    print(result)"
   ]
  },
  {
   "cell_type": "code",
   "execution_count": null,
   "metadata": {},
   "outputs": [],
   "source": [
    "#Pattern of N\n",
    "\n",
    "N = int(input())\n",
    "for i in range(1, N*N + 1):\n",
    "    print(i, end='')\n",
    "    if i % N == 0:\n",
    "        print()\n",
    "    else:\n",
    "        print(' ', end='')\n"
   ]
  },
  {
   "cell_type": "code",
   "execution_count": null,
   "metadata": {},
   "outputs": [],
   "source": [
    "#Another Nested Loop\n",
    "\n",
    "num=int(input())\n",
    "for i in range(1,num+1):\n",
    "    for j in range(1,i+1):\n",
    "        print(j)\n"
   ]
  },
  {
   "cell_type": "code",
   "execution_count": null,
   "metadata": {},
   "outputs": [],
   "source": [
    "#Pattern Printing\n",
    "\n",
    "N = int(input())\n",
    "for i in range(N):\n",
    "    for j in range(0,i+1):\n",
    "       print(\"*\", end =\"\")\n",
    "    print()"
   ]
  },
  {
   "cell_type": "code",
   "execution_count": null,
   "metadata": {},
   "outputs": [],
   "source": [
    "#Move 2 Ahead\n",
    "\n",
    "num = int(input())\n",
    "for i in range(1, num + 1, 2):\n",
    "    print(i)"
   ]
  },
  {
   "cell_type": "code",
   "execution_count": null,
   "metadata": {},
   "outputs": [],
   "source": [
    "#Minimum of three\n",
    "\n",
    "a, b, c = map(int, input().split())\n",
    "\n",
    "minimum_value = a\n",
    "\n",
    "if b < minimum_value:\n",
    "    minimum_value = b\n",
    "\n",
    "if c < minimum_value:\n",
    "    minimum_value = c\n",
    "\n",
    "print(minimum_value)"
   ]
  },
  {
   "cell_type": "code",
   "execution_count": null,
   "metadata": {},
   "outputs": [],
   "source": [
    "#Beach Fun\n",
    "\n",
    "x = int(input())\n",
    "rk_beach_position = 1\n",
    "ru_beach_position = 49\n",
    "\n",
    "distance_to_rk = abs(x - rk_beach_position)\n",
    "distance_to_ru = abs(x - ru_beach_position)\n",
    "\n",
    "if distance_to_rk < distance_to_ru:\n",
    "    print(\"RK Beach\")\n",
    "elif distance_to_ru < distance_to_rk:\n",
    "    print(\"RU Beach\")\n",
    "else:\n",
    "    print(\"Go Anywhere!\")"
   ]
  },
  {
   "cell_type": "code",
   "execution_count": null,
   "metadata": {},
   "outputs": [],
   "source": [
    "#Pattern Printing I\n",
    "\n",
    "N = int(input())\n",
    "for i in range(N):\n",
    "    if i == 0 or i == N-1:\n",
    "        print(\"* \"*N)\n",
    "    else:\n",
    "        print(\"*\")\n",
    "print()\n"
   ]
  },
  {
   "cell_type": "code",
   "execution_count": null,
   "metadata": {},
   "outputs": [],
   "source": [
    "#Masai Divisors\n",
    "\n",
    "left,right,k=map(int,input().split())\n",
    "count=0\n",
    "for i in range(left,right+1,1):\n",
    "    if i%k==0:\n",
    "        count+=1\n",
    "print(count)"
   ]
  }
 ],
 "metadata": {
  "language_info": {
   "name": "python"
  }
 },
 "nbformat": 4,
 "nbformat_minor": 2
}
