{
 "cells": [
  {
   "cell_type": "code",
   "execution_count": null,
   "metadata": {},
   "outputs": [],
   "source": [
    "#Chocolate Drink\n",
    "def max_chocolate_area(N, slots):\n",
    "    max_area = 0\n",
    "    left = 0\n",
    "    right = N - 1\n",
    "\n",
    "    while left < right:\n",
    "        min_height = min(slots[left], slots[right])\n",
    "        width = right - left\n",
    "        area = min_height * width\n",
    "        max_area = max(max_area, area)\n",
    "\n",
    "        if slots[left] < slots[right]:\n",
    "            left += 1\n",
    "        else:\n",
    "            right -= 1\n",
    "\n",
    "    return max_area\n",
    "\n",
    "N = int(input())\n",
    "slots = list(map(int, input().split()))\n",
    "\n",
    "print(max_chocolate_area(N, slots))"
   ]
  },
  {
   "cell_type": "code",
   "execution_count": null,
   "metadata": {},
   "outputs": [],
   "source": [
    "#Minimum Expenses\n",
    "\n",
    "T = int(input())\n",
    "for _ in range(T):\n",
    "    N, K = map(int, input().split())\n",
    "    arr = list(map(int, input().split()))\n",
    "    min_sum = float('inf')\n",
    "    current_sum= sum(arr[:K])\n",
    "    min_sum = min(min_sum,current_sum)\n",
    "    for i in range(K,N):\n",
    "        current_sum += arr[i] - arr[i-K]\n",
    "        min_sum = min(min_sum,current_sum)\n",
    "    print(min_sum)\n"
   ]
  },
  {
   "cell_type": "code",
   "execution_count": null,
   "metadata": {},
   "outputs": [],
   "source": [
    "#Array and it's Parts\n",
    "\n",
    "N = int(input())\n",
    "\n",
    "arr = list(map(int, input().split()))\n",
    "\n",
    "index = N // 3\n",
    "second_part_sum = sum(arr[index:2*index])\n",
    "third_part_sum = sum(arr[2*index:])\n",
    "\n",
    "total_sum = second_part_sum + third_part_sum\n",
    "\n",
    "print(total_sum)"
   ]
  },
  {
   "cell_type": "code",
   "execution_count": null,
   "metadata": {},
   "outputs": [],
   "source": [
    "#Sum of Symbols in 2D Array\n",
    "\n",
    "N, M = map(int, input().split())\n",
    "\n",
    "array = []\n",
    "\n",
    "for _ in range(N):\n",
    "    row = input().strip()\n",
    "    array.append(row)\n",
    "\n",
    "row_sums = []\n",
    "for row in array:\n",
    "    row_sum = sum(7 if symbol == '$' else 8 if symbol == '%' else 9 for symbol in row)\n",
    "    row_sums.append(row_sum)\n",
    "\n",
    "total = sum(row_sums)\n",
    "print(total)\n"
   ]
  },
  {
   "cell_type": "code",
   "execution_count": null,
   "metadata": {},
   "outputs": [],
   "source": [
    "#Equation of a String \n",
    "\n",
    "N = int(input())\n",
    "str_value = input().lower()\n",
    "\n",
    "vowels = sum(1 for char in str_value if char in 'aeiou')\n",
    "consonants = N - vowels\n",
    "\n",
    "power = 5 * vowels + 2 * consonants\n",
    "\n",
    "print(power)\n",
    "\n"
   ]
  },
  {
   "cell_type": "code",
   "execution_count": null,
   "metadata": {},
   "outputs": [],
   "source": [
    "#Replace Vowels\n",
    "\n",
    "N = int(input())\n",
    "\n",
    "\n",
    "str_in = input()\n",
    "\n",
    "\n",
    "new_str = ''.join(['*' if char in 'aeiou' else char for char in str_in])\n",
    "\n",
    "print(new_str)\n",
    "\n"
   ]
  }
 ],
 "metadata": {
  "kernelspec": {
   "display_name": "Python 3",
   "language": "python",
   "name": "python3"
  },
  "language_info": {
   "name": "python",
   "version": "3.12.0"
  }
 },
 "nbformat": 4,
 "nbformat_minor": 2
}
