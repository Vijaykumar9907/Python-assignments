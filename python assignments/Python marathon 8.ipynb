{
 "cells": [
  {
   "cell_type": "code",
   "execution_count": null,
   "metadata": {},
   "outputs": [],
   "source": [
    "#Find the Thief\n",
    "\n",
    "Person_A=int(input())\n",
    "Person_B=int(input())\n",
    "Person_C=int(input())\n",
    "N = int(input())\n",
    "if Person_A > N:\n",
    " print(\"Person A\")\n",
    "elif Person_B > N:\n",
    " print(\"Person B\")\n",
    "elif Person_C > N:\n",
    " print(\"Person C\")\n",
    "else:\n",
    "  print(\"Not found\")"
   ]
  },
  {
   "cell_type": "code",
   "execution_count": null,
   "metadata": {},
   "outputs": [],
   "source": [
    "#Social Networking for Everyone\n",
    "\n",
    "N= int(input())\n",
    "if N < 13:\n",
    "  print(\"1 Kms\")\n",
    "elif N>=13 and N < 18:\n",
    " print(\"5 Kms\")\n",
    "elif N >=18 and N < 30:\n",
    "  print(\"10 Kms\")\n",
    "else:\n",
    "  print(\"You can have friends from anywhere\")"
   ]
  },
  {
   "cell_type": "code",
   "execution_count": null,
   "metadata": {},
   "outputs": [],
   "source": []
  },
  {
   "cell_type": "code",
   "execution_count": null,
   "metadata": {},
   "outputs": [],
   "source": [
    "#Nice Array\n",
    "\n",
    "N= int(input())\n",
    "array =list(map(int,input().split()))\n",
    "K= int(input())\n",
    "count=0\n",
    "for i in array:\n",
    "  if i%2==0:\n",
    "    count+=1\n",
    "if count>K:\n",
    "     print(\"Nice Array\")\n",
    "else:\n",
    "     print(\"Bad Array\")\n"
   ]
  },
  {
   "cell_type": "code",
   "execution_count": null,
   "metadata": {},
   "outputs": [],
   "source": [
    "#Odd Array Traversal\n",
    "\n",
    "N = int(input())\n",
    "array = list(map(int, input().split()))[:N]\n",
    "for i in range(1,N, 2):\n",
    "  print(array[i],end=\" \")\n"
   ]
  },
  {
   "cell_type": "code",
   "execution_count": null,
   "metadata": {},
   "outputs": [],
   "source": [
    "#Count such pairs\n",
    "\n",
    "N,T=map(int,input().split())\n",
    "arr=list(map(int,input().split()))\n",
    "count=0\n",
    "for i in range(N):\n",
    "    for j in range(i+1,N,1):\n",
    "        if arr[i]+arr[j]==T:\n",
    "            count+=1\n",
    "print(count)"
   ]
  }
 ],
 "metadata": {
  "kernelspec": {
   "display_name": "Python 3",
   "language": "python",
   "name": "python3"
  },
  "language_info": {
   "name": "python",
   "version": "3.12.0"
  }
 },
 "nbformat": 4,
 "nbformat_minor": 2
}
