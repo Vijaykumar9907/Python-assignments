{
 "cells": [
  {
   "cell_type": "code",
   "execution_count": null,
   "metadata": {},
   "outputs": [],
   "source": [
    "#Perimeter of Rectangle\n",
    "\n",
    "L,B=list(map(int,input().split()))\n",
    "formula=2*(L+B)\n",
    "print(formula)\n"
   ]
  },
  {
   "cell_type": "code",
   "execution_count": null,
   "metadata": {},
   "outputs": [],
   "source": [
    "#Numbers divisible by M\n",
    "\n",
    "t = int(input())\n",
    "\n",
    "for _ in range(t):\n",
    "    N, M = map(int, input().split())\n",
    "    A = list(map(int, input().split()))\n",
    "\n",
    "    for i in range(N):\n",
    "        if A[i] % M == 0:\n",
    "            A[i] = -1\n",
    "\n",
    "    print(*A)\n"
   ]
  },
  {
   "cell_type": "code",
   "execution_count": null,
   "metadata": {},
   "outputs": [],
   "source": [
    "#Map Symbols\n",
    "\n",
    "N = int(input())\n",
    "\n",
    "\n",
    "symbols = ['!', '@', '#', '$', '%', '^', '&', '*']\n",
    "\n",
    "\n",
    "output = [f\"{symbol}-{N + 2 * index}\" for index, symbol in enumerate(symbols)]\n",
    "\n",
    "\n",
    "for symbol_mapping in output:\n",
    "    print(symbol_mapping)\n",
    "\n"
   ]
  },
  {
   "cell_type": "code",
   "execution_count": null,
   "metadata": {},
   "outputs": [],
   "source": [
    "#Alan & Frequency\n",
    "\n",
    "n = int(input())\n",
    "string = input()\n",
    "string_set = set(string)\n",
    "sorted_set = sorted(string_set)\n",
    "\n",
    "for char in sorted_set:\n",
    "    count = string.count(char)\n",
    "    print(f\"{char}-{count}\")\n",
    "\n"
   ]
  },
  {
   "cell_type": "code",
   "execution_count": null,
   "metadata": {},
   "outputs": [],
   "source": [
    "#Half Palindrome\n",
    "\n",
    "N = int(input())\n",
    "str_value = input()\n",
    "\n",
    "\n",
    "first_half = str_value[:N//2]\n",
    "second_half = str_value[N//2:]\n",
    "\n",
    "\n",
    "if first_half == first_half[::-1] and second_half == second_half[::-1]:\n",
    "    print(\"yes\")\n",
    "else:\n",
    "    print(\"no\")"
   ]
  }
 ],
 "metadata": {
  "kernelspec": {
   "display_name": "Python 3",
   "language": "python",
   "name": "python3"
  },
  "language_info": {
   "name": "python",
   "version": "3.12.0"
  }
 },
 "nbformat": 4,
 "nbformat_minor": 2
}
