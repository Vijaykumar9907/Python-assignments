{
 "cells": [
  {
   "cell_type": "code",
   "execution_count": null,
   "metadata": {},
   "outputs": [],
   "source": [
    "#Day of the Week\n",
    "\n",
    "days_of_week = [\"Monday\", \"Tuesday\", \"Wednesday\", \"Thursday\", \"Friday\", \"Saturday\", \"Sunday\"]\n",
    "\n",
    "# Input\n",
    "current_day = input()\n",
    "N = int(input())\n",
    "\n",
    "# Find the day after N days\n",
    "current_day_index = days_of_week.index(current_day)\n",
    "future_day_index = (current_day_index + N) % 7\n",
    "future_day = days_of_week[future_day_index]\n",
    "\n",
    "# Output\n",
    "print(future_day)\n",
    "\n",
    "#Hint:\n",
    "\n",
    "\n",
    "weeks=[\"monday\",\"tuesday\",\"wednesday\",\"thursday\",\"friday\",\"saturday\",\"sunday\"]\n",
    "today_index=weeks.index(\"wednesday\")\n",
    "future=(today_index+8)%7\n",
    "future_day=weeks[future]\n",
    "print(future_day)"
   ]
  },
  {
   "cell_type": "code",
   "execution_count": null,
   "metadata": {},
   "outputs": [],
   "source": [
    "#Alan Frequency \n",
    "\n",
    "#here we hav to concert the input AMAN(string to set) so that we can access the distinct element in the string otherwise it will tell like a is not defined.\n",
    "\n",
    "\n",
    "n=int(input())\n",
    "string=input()\n",
    "string_set=set(string)\n",
    "sort=sorted(string_set)\n",
    "print(sort[i] - string.count(string_set[i])) #but its not gave results.\n",
    "\n",
    "n = int(input())\n",
    "string = input()\n",
    "string_set = set(string)\n",
    "sorted_set = sorted(string_set)\n",
    "\n",
    "for char in sorted_set:\n",
    "    count = string.count(char)\n",
    "    print(f\"{char}-{count}\")"
   ]
  },
  {
   "cell_type": "code",
   "execution_count": null,
   "metadata": {},
   "outputs": [],
   "source": [
    "#Perform Merging\n",
    "\n",
    "\n",
    "N = int(input())\n",
    "N1 = list(map(int, input().split()))\n",
    "N2 = list(map(int, input().split()))\n",
    "\n",
    "# Merge the two sorted arrays\n",
    "merged_array = sorted(N1 + N2)\n",
    "\n",
    "# Print each element in the merged array\n",
    "for i in merged_array:\n",
    "    print(i, end=\" \")\n"
   ]
  },
  {
   "cell_type": "code",
   "execution_count": null,
   "metadata": {},
   "outputs": [],
   "source": [
    "\n",
    "#Result or Tie - Tic Tac Toe\n",
    "\n",
    "ar = []\n",
    "\n",
    "for i in range(3):\n",
    "    a = list(input().split())[:3]\n",
    "    ar.append(a)\n",
    "\n",
    "for i in range(3):\n",
    "    if ar[i][0] == ar[i][1] == ar[i][2] and ar[i][0] != '':\n",
    "        print(ar[i][0])\n",
    "\n",
    "for i in range(3):\n",
    "    if ar[0][i] == ar[1][i] == ar[2][i] and ar[0][i] != '':\n",
    "        print(ar[0][i])\n",
    "\n",
    "if ar[0][0] == ar[1][1] == ar[2][2] and ar[0][0] != '':\n",
    "    print(ar[0][0])\n",
    "\n",
    "if ar[0][2] == ar[1][1] == ar[2][0] and ar[0][2] != '':\n",
    "    print(ar[0][2])\n"
   ]
  },
  {
   "cell_type": "code",
   "execution_count": null,
   "metadata": {},
   "outputs": [],
   "source": [
    "#Number of mouse\n",
    "\n",
    "t=int(input())\n",
    "for i in range (t):\n",
    "    n=int(input())\n",
    "    s=input()\n",
    "    c=0\n",
    "    for k in range(s.count(\"mouse\")):\n",
    "        if \"mouse\" in s:\n",
    "            c+=1\n",
    "        else:\n",
    "            c==0\n",
    "    print(c)"
   ]
  },
  {
   "cell_type": "code",
   "execution_count": null,
   "metadata": {},
   "outputs": [],
   "source": [
    "#Generate all substrings\n",
    "\n",
    "t=int(input())\n",
    "for i in range(t):\n",
    "    n=int(input())\n",
    "    arr=input()\n",
    "    for j in range(n):\n",
    "        for k in range(j,n):\n",
    "            print(arr[j:k+1])\n"
   ]
  }
 ],
 "metadata": {
  "kernelspec": {
   "display_name": "Python 3",
   "language": "python",
   "name": "python3"
  },
  "language_info": {
   "name": "python",
   "version": "3.12.0"
  }
 },
 "nbformat": 4,
 "nbformat_minor": 2
}
