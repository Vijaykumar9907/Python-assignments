{
 "cells": [
  {
   "cell_type": "code",
   "execution_count": null,
   "metadata": {},
   "outputs": [],
   "source": [
    "#Print Characters of a String\n",
    "\n",
    "N = int(input())\n",
    "str= input()\n",
    "for i in range(0,N,1):\n",
    " print(str[i])\n"
   ]
  },
  {
   "cell_type": "code",
   "execution_count": null,
   "metadata": {},
   "outputs": [],
   "source": [
    "#Print Characters of a String in Reverse\n",
    "\n",
    "N = int(input())\n",
    "str=input()\n",
    "for i in range(N-1,-1,-1):\n",
    " print(str[i])"
   ]
  },
  {
   "cell_type": "code",
   "execution_count": null,
   "metadata": {},
   "outputs": [],
   "source": [
    "\n",
    "#Characters At Odd Position\n",
    "\n",
    "N= int(input())\n",
    "str = input()\n",
    "for i in range(1,N,2):\n",
    " print(str[i])"
   ]
  },
  {
   "cell_type": "code",
   "execution_count": null,
   "metadata": {},
   "outputs": [],
   "source": [
    "#Character At Even Position\n",
    "\n",
    "N= int(input())\n",
    "str = input()\n",
    "for i in range(0,N,2):\n",
    " print(str[i])\n"
   ]
  },
  {
   "cell_type": "code",
   "execution_count": null,
   "metadata": {},
   "outputs": [],
   "source": [
    "#Check Vowel\n",
    "\n",
    "N=int(input())\n",
    "str=input()\n",
    "vowel=[\"a\",\"e\",\"i\",\"o\",\"u\"]\n",
    "count=0\n",
    "for i in range(N):\n",
    "  if str[i] in vowel:\n",
    "    count+=1\n",
    "if count>=1:\n",
    "     print(\"true\")\n",
    "else:\n",
    "  print(\"false\")\n",
    "\n"
   ]
  }
 ],
 "metadata": {
  "kernelspec": {
   "display_name": "Python 3",
   "language": "python",
   "name": "python3"
  },
  "language_info": {
   "name": "python",
   "version": "3.12.0"
  }
 },
 "nbformat": 4,
 "nbformat_minor": 2
}
