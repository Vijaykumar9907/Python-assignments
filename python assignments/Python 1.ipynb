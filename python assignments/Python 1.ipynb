{
 "cells": [
  {
   "cell_type": "code",
   "execution_count": null,
   "metadata": {},
   "outputs": [],
   "source": [
    "#Breaking a record\n",
    "\n",
    "highest_score,Tendulkar= map(int,input().split(\" \"))\n",
    "if (Tendulkar>highest_score):\n",
    "    print(\"Broken\")\n",
    "    \n",
    "elif (Tendulkar<highest_score):\n",
    "    print(\"Not Yet\")\n",
    "    \n",
    "else:\n",
    "    print(\"Wao\")"
   ]
  },
  {
   "cell_type": "code",
   "execution_count": null,
   "metadata": {},
   "outputs": [],
   "source": []
  }
 ],
 "metadata": {
  "language_info": {
   "name": "python"
  }
 },
 "nbformat": 4,
 "nbformat_minor": 2
}
