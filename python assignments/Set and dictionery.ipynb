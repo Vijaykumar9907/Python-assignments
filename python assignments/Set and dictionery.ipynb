{
 "cells": [
  {
   "cell_type": "code",
   "execution_count": null,
   "metadata": {},
   "outputs": [],
   "source": [
    "#Map Characters\n",
    "\n",
    "N = int(input().strip())\n",
    "for i in range(1, N + 1):\n",
    "    alphabet = chr(ord('a') + i - 1)\n",
    "    print(f\"{alphabet}-{i}\")\n"
   ]
  },
  {
   "cell_type": "code",
   "execution_count": null,
   "metadata": {},
   "outputs": [],
   "source": [
    "#Map Characters Again\n",
    "\n",
    "N = int(input().strip())\n",
    "\n",
    "for i in range(26):\n",
    "    character = chr(ord('a') + i)\n",
    "    number = N + i\n",
    "    print(f\"{character}-{number}\")"
   ]
  },
  {
   "cell_type": "code",
   "execution_count": null,
   "metadata": {},
   "outputs": [],
   "source": [
    "#Map Characters & Sum\n",
    "\n",
    "N = int(input().strip())  \n",
    "K = int(input().strip())  \n",
    "str_value = input().strip()  \n",
    "\n",
    "\n",
    "mapping = {}\n",
    "for i in range(26):\n",
    "    character = chr(ord('a') + i)\n",
    "    value = N + i\n",
    "    mapping[character] = value\n",
    "\n",
    "\n",
    "total_sum = sum(mapping[char] for char in str_value if char.islower())\n",
    "print(total_sum)\n",
    "\n",
    "\n"
   ]
  },
  {
   "cell_type": "code",
   "execution_count": null,
   "metadata": {},
   "outputs": [],
   "source": [
    "#.Distinct Again\n",
    "\n",
    "N = int(input().strip())\n",
    "array = list(map(int, input().strip().split()))\n",
    "\n",
    "# Using a set to store distinct elements\n",
    "distinct_elements = set(array)\n",
    "\n",
    "# Calculating the sum of distinct elements\n",
    "sum_of_distinct_elements = sum(distinct_elements)\n",
    "\n",
    "print(sum_of_distinct_elements)\n"
   ]
  },
  {
   "cell_type": "code",
   "execution_count": null,
   "metadata": {},
   "outputs": [],
   "source": [
    "#Maximum Occurring Element\n",
    "\n",
    "N = int(input().strip())\n",
    "array = list(map(int, input().strip().split()))\n",
    "\n",
    "# Using a dictionary to count the frequency of each integer\n",
    "frequency_count = {}\n",
    "\n",
    "# Iterate through the array to count the frequency of each integer\n",
    "for num in array:\n",
    "    if num in frequency_count:\n",
    "        frequency_count[num] += 1\n",
    "    else:\n",
    "        frequency_count[num] = 1\n",
    "\n",
    "# Find the integer with maximum frequency\n",
    "max_frequency_num = max(frequency_count, key=frequency_count.get)\n",
    "\n",
    "print(max_frequency_num)"
   ]
  },
  {
   "cell_type": "code",
   "execution_count": null,
   "metadata": {},
   "outputs": [],
   "source": [
    "#John Nash & Sets\n",
    "\n",
    "T = int(input().strip())  # Number of test cases\n",
    "\n",
    "for _ in range(T):\n",
    "    # Input for each test case\n",
    "    N = int(input().strip())  # Size of the first set\n",
    "    set1 = list(map(int, input().strip().split()))  # Elements of the first set\n",
    "\n",
    "    M = int(input().strip())  # Size of the second set\n",
    "    set2 = list(map(int, input().strip().split()))  # Elements of the second set\n",
    "\n",
    "    # Merge and sort the sets\n",
    "    merged_set = list(set(set1 + set2))\n",
    "    sorted_set = sorted(merged_set)\n",
    "\n",
    "    # Print the result\n",
    "    print(\" \".join(map(str, sorted_set)))\n"
   ]
  },
  {
   "cell_type": "code",
   "execution_count": null,
   "metadata": {},
   "outputs": [],
   "source": [
    "#Union of arrays\n",
    "\n",
    "N = int(input().strip())  \n",
    "array_A = set(map(int, input().strip().split()))\n",
    "array_B = set(map(int, input().strip().split()))\n",
    "union_array = sorted(list(array_A.union(array_B)))\n",
    "print(\" \".join(map(str, union_array)))"
   ]
  }
 ],
 "metadata": {
  "kernelspec": {
   "display_name": "Python 3",
   "language": "python",
   "name": "python3"
  },
  "language_info": {
   "name": "python",
   "version": "3.12.0"
  }
 },
 "nbformat": 4,
 "nbformat_minor": 2
}
