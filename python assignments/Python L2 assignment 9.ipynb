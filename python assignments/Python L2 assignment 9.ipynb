{
 "cells": [
  {
   "cell_type": "code",
   "execution_count": null,
   "metadata": {},
   "outputs": [],
   "source": [
    "#First Negative Integer\n",
    "\n",
    "from collections import deque\n",
    "\n",
    "def first_negative_in_window(arr, k):\n",
    "    result = []\n",
    "    window_negatives = deque()\n",
    "\n",
    "    for i, num in enumerate(arr):\n",
    "        if num < 0:\n",
    "            window_negatives.append(i)\n",
    "\n",
    "        if i >= k - 1:\n",
    "            while window_negatives and window_negatives[0] < i - k + 1:\n",
    "                window_negatives.popleft()\n",
    "\n",
    "            result.append(arr[window_negatives[0]] if window_negatives else 0)\n",
    "\n",
    "    return result\n",
    "\n",
    "def main():\n",
    "    t = int(input())\n",
    "    \n",
    "    for _ in range(t):\n",
    "        n, k = map(int, input().split())\n",
    "        arr = list(map(int, input().split()))\n",
    "        \n",
    "        result = first_negative_in_window(arr, k)\n",
    "        print(*result)\n",
    "\n",
    "if __name__ == \"__main__\":\n",
    "    main()"
   ]
  },
  {
   "cell_type": "code",
   "execution_count": null,
   "metadata": {},
   "outputs": [],
   "source": [
    "#Division Task\n",
    "\n",
    "#partially accepted\n",
    "\n",
    "N = int(input())\n",
    "x=32//N\n",
    "if x == 0:\n",
    "    print(\"Too Low\")\n",
    "elif 32 % N != 0:\n",
    "    print(\"-1\")\n",
    "else:\n",
    "    print(x)"
   ]
  },
  {
   "cell_type": "code",
   "execution_count": null,
   "metadata": {},
   "outputs": [],
   "source": [
    "#Infinity Stones\n",
    "\n",
    "A,B,C,D,E,F=map(int,input().split(\" \"))\n",
    "total_power=(A+2*B+3*C+3*D+2*E+2*F)\n",
    "print(total_power)"
   ]
  },
  {
   "cell_type": "code",
   "execution_count": null,
   "metadata": {},
   "outputs": [],
   "source": [
    "#Feel Good Strings\n",
    "\n",
    "N = int(input())\n",
    "string = input()\n",
    "x = N / 2\n",
    "count = 0\n",
    "\n",
    "for i in string:\n",
    "    if i == \"a\" or i == \"e\" or i == \"i\" or i == \"o\" or i == \"u\":\n",
    "        count += 1\n",
    "        if count >= x:\n",
    "            print(\"Feel good!\")\n",
    "            break\n",
    "else:\n",
    "    print(\"Feel bad!\")"
   ]
  },
  {
   "cell_type": "code",
   "execution_count": null,
   "metadata": {},
   "outputs": [],
   "source": [
    "\n",
    "#Dots and Dashes II\n",
    "\n",
    "N = int(input())\n",
    "\n",
    "for i in range(1, N+1):\n",
    "    for j in range(N):\n",
    "        if i % 2 != 0:\n",
    "            print(\"_\", end=\"\")\n",
    "        else:\n",
    "            print(\"*\", end=\"\")\n",
    "    print()"
   ]
  }
 ],
 "metadata": {
  "kernelspec": {
   "display_name": "Python 3",
   "language": "python",
   "name": "python3"
  },
  "language_info": {
   "name": "python",
   "version": "3.12.0"
  }
 },
 "nbformat": 4,
 "nbformat_minor": 2
}
