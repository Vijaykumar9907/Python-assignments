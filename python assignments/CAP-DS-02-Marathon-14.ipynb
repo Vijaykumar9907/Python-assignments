{
 "cells": [
  {
   "cell_type": "code",
   "execution_count": null,
   "metadata": {},
   "outputs": [],
   "source": [
    "#Power Rangers\n",
    "\n",
    "\n",
    "red,blue,green,yellow,pink=list(map(int,input().split()))\n",
    "first=red*5\n",
    "second=blue*4\n",
    "third=green*3\n",
    "fourth=yellow*2\n",
    "fifth=pink\n",
    "print(first+second+third+fourth+fifth)\n"
   ]
  },
  {
   "cell_type": "code",
   "execution_count": null,
   "metadata": {},
   "outputs": [],
   "source": [
    "#Mod of 10\n",
    "\n",
    "num=int(input())\n",
    "x= num % 10\n",
    "if x == 0:\n",
    " print(\"zero\")\n",
    "if  x == 1:\n",
    " print ('one') \n",
    "if x == 2:\n",
    " print ('two')\n",
    "if x == 3:\n",
    " print ('three')\n",
    "if x == 4:\n",
    " print ('four')\n",
    "if x == 5:\n",
    " print ('five')\n",
    "if x == 6:\n",
    " print ('six')\n",
    "if x ==7:\n",
    " print ('seven')\n",
    "if x == 8:\n",
    " print ('eight')\n",
    "if x == 9:\n",
    " print ('nine')"
   ]
  },
  {
   "cell_type": "code",
   "execution_count": null,
   "metadata": {},
   "outputs": [],
   "source": [
    "#Day of the Week\n",
    "\n",
    "current_day = input()\n",
    "N = int(input())\n",
    "\n",
    "days_of_week = [\"Monday\", \"Tuesday\", \"Wednesday\", \"Thursday\", \"Friday\", \"Saturday\", \"Sunday\"]\n",
    "current_day_index = days_of_week.index(current_day)\n",
    "future_day_index = (current_day_index + N) % 7\n",
    "future_day = days_of_week[future_day_index]\n",
    "print(future_day)"
   ]
  },
  {
   "cell_type": "code",
   "execution_count": null,
   "metadata": {},
   "outputs": [],
   "source": [
    "#V pattern\n",
    "\n",
    "N = int(input())\n",
    "\n",
    "for i in range(1, N + 1):\n",
    "   \n",
    "    print(\" \" * (i - 1), end=\"\")\n",
    "\n",
    "   \n",
    "    print(\"\\\\\" , end=\"\")\n",
    "\n",
    "   \n",
    "    print(\" \" * (2 * (N - i)), end=\"\")\n",
    "\n",
    "   \n",
    "    print(\"/\", end=\"\")\n",
    "\n",
    "   \n",
    "    print()\n",
    "\n",
    "\n",
    "    \n",
    "#Even One Out\n",
    "\n",
    "a, b, c = map(int, input().split())\n",
    "\n",
    "if a % 2 == 0 and b % 2 == 0 and c % 2 == 0:\n",
    "    print(a, b, c) \n",
    "elif a % 2 == 0 and b % 2 == 0:\n",
    "    print(c)  \n",
    "elif a % 2 == 0 and c % 2 == 0:\n",
    "    print(b)  \n",
    "elif b % 2 == 0 and c % 2 == 0:\n",
    "    print(a)  \n",
    "else:\n",
    "    print(0)"
   ]
  }
 ],
 "metadata": {
  "kernelspec": {
   "display_name": "Python 3",
   "language": "python",
   "name": "python3"
  },
  "language_info": {
   "name": "python",
   "version": "3.12.0"
  }
 },
 "nbformat": 4,
 "nbformat_minor": 2
}
